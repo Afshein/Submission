{
 "cells": [
  {
   "cell_type": "markdown",
   "metadata": {},
   "source": [
    "# Coursework 1 - Mathematics for Machine Learning"
   ]
  },
  {
   "cell_type": "markdown",
   "metadata": {},
   "source": [
    "## CID: 01877978\n",
    "\n",
    "**Colab link:** insert colab link here\n",
    "\n",
    "***\n",
    "***"
   ]
  },
  {
   "cell_type": "markdown",
   "metadata": {},
   "source": [
    "## Part 1: Quickfire questions [3 points]"
   ]
  },
  {
   "cell_type": "markdown",
   "metadata": {},
   "source": [
    "#### Question 1 (True risk / Empirical risk):\n",
    "\n",
    "True risk $R(f) = \\mathbb{E}_D[L(f(\\bold{x},\\bold{y}))]$\\\n",
    "Empirical risk $\\hat{R}(f) = \\frac{1}{N}\\sum_{i=1}^N L(f(\\bold{x}^i),\\bold{y}^i)$\n",
    "\n",
    "The True risk $R(f)$ can only be evaluated by knowing the joint distrubution of ($\\bold{x}, \\bold{y})$, so is instead approximated by using realisations of the distribution."
   ]
  },
  {
   "cell_type": "markdown",
   "metadata": {},
   "source": [
    "#### Question 2 ('Large' or 'rich' hypothesis class):\n",
    "Hypothesis class $F$ is the set of functions which can be used to model $(\\bold{x}, f(\\bold{x}))$\\\n",
    "Downfalls are it is harder to optimize over as you have introduced more parameters"
   ]
  },
  {
   "cell_type": "markdown",
   "metadata": {},
   "source": [
    "#### Question 3 (Dataset splitting):\n",
    "\n",
    "No, you chose the model with the maximum validation set score.\n",
    "\n",
    "If all the model validation set score was i.i.d $\\sim N(\\mu, \\sigma^2)$,the maximum would be distributed with $ P(X_{max} \\leq x) = \\prod_{i=1}^{N}[P(X_i \\leq x)] = \\Phi^n(x)$ "
   ]
  },
  {
   "cell_type": "markdown",
   "metadata": {},
   "source": [
    "#### Question 4 (Occam’s razor):\n",
    "\n",
    "Enter your answer here"
   ]
  },
  {
   "cell_type": "markdown",
   "metadata": {},
   "source": [
    "#### Question 5 (Generalisation error):\n",
    "\n",
    "Enter your answer here"
   ]
  },
  {
   "cell_type": "markdown",
   "metadata": {},
   "source": [
    "#### Question 6 (Rademacher complexity pt1):\n",
    "\n",
    "Enter your answer here"
   ]
  },
  {
   "cell_type": "markdown",
   "metadata": {},
   "source": [
    "#### Question 7 (Rademacher complexity pt2):\n",
    "\n",
    "Enter your answer here"
   ]
  },
  {
   "cell_type": "markdown",
   "metadata": {},
   "source": [
    "#### Question 8 (Regularisation term in the loss function):\n",
    "\n",
    "Enter your answer here"
   ]
  },
  {
   "cell_type": "markdown",
   "metadata": {},
   "source": [
    "#### Question 9 (Momentum gradient descent):\n",
    "\n",
    "Enter your answer here"
   ]
  },
  {
   "cell_type": "markdown",
   "metadata": {},
   "source": [
    "#### Question 10 (Adam):\n",
    "\n",
    "Enter your answer here"
   ]
  },
  {
   "cell_type": "markdown",
   "metadata": {},
   "source": [
    "#### Question 11 (AdaGrad):\n",
    "\n",
    "Enter your answer here"
   ]
  },
  {
   "cell_type": "markdown",
   "metadata": {},
   "source": [
    "#### Question 12 (Decaying Learning Rate):\n",
    "\n",
    "Enter your answer here"
   ]
  },
  {
   "cell_type": "markdown",
   "metadata": {},
   "source": [
    "*** \n",
    "***\n",
    "\n",
    "## Part 2: Short-ish proofs [6 points]"
   ]
  },
  {
   "cell_type": "markdown",
   "metadata": {},
   "source": [
    "\n",
    "### Question 2.1: Bounds on the risk [1 point]\n"
   ]
  },
  {
   "cell_type": "markdown",
   "metadata": {},
   "source": [
    "Hoeffdings inequality\n",
    "\n",
    "Let $X_1, X_2, X_3,..,X_m$ independent, taking values in $[a_i, b_i]$. With $S_m = \\sum_{i=1}^m X_i$.\\\n",
    "$\\forall \\epsilon > 0$\n",
    "\n",
    "$P(S_n - E[S_n] \\geq \\epsilon) \\leq exp\\left \\{ \\begin{aligned}\n",
    "    -\\frac{2\\epsilon^2}{\\sum_{i=1}^n(b_i - a_i)^2}\n",
    "    \\end{aligned}\n",
    "    \\right\\}$\n",
    "\n",
    "Viewing $L(f(x_i), y_i)$ i.i.d random variables (a function of the join distribution $(\\bold{x}, \\bold{y})$)\\\n",
    "Noting $0 \\leq L(f(x_i), y_i) \\leq 1, \\forall \\omega \\in \\Omega$, we take $b_i = 1, a_i = 0, \\forall i$\\\n",
    "and as they are i.i.d, $\\mathbb{E}[S_n] = \\mathbb{E}[L(f(\\bold{x}), \\bold{x})]$\n",
    "\n",
    " $\\forall \\epsilon$, we have\n",
    "$P(\\frac{1}{N}S_n - \\frac{1}{N} E[S_n] \\geq \\epsilon)  = p(S_n - E[S_n] \\geq N \\epsilon) \\leq exp\\left \\{ \\begin{aligned}\n",
    "    -\\frac{2(N \\epsilon)^2}{\\sum_{i=1}^N1^2}\n",
    "    \\end{aligned}\n",
    "    \\right\\}\n",
    "=exp\\left \\{ \\begin{aligned}\n",
    "    -2 N \\epsilon^2\n",
    "    \\end{aligned}\n",
    "    \\right\\}$\n",
    "\n",
    "\n",
    "3\\) d\n",
    "\n",
    "\n",
    "\n"
   ]
  },
  {
   "cell_type": "markdown",
   "metadata": {},
   "source": [
    "***\n",
    "\n",
    "### Question 2.2: On semi-definiteness [1 point]"
   ]
  },
  {
   "cell_type": "markdown",
   "metadata": {},
   "source": [
    "$f(y) \\geq f(x) + \\nabla f(x)^T(y-x)$\n",
    "\n",
    "Let $g(t) = f(x+tv)$ \n",
    "\n",
    "$g'(t) = v^T \\, \\nabla f(x + vt)$\n",
    "\n",
    "$g''(t) = v^T \\cdot\\nabla^2 f(x + tv) \\cdot v$\n",
    "\n",
    "Showing g is convex.\\\n",
    "$\\forall t_1, t_2 \\in \\mathbb{R},\\alpha \\in (0,1),\\\\\n",
    "g(\\alpha t_1  + (1 - \\alpha)t_2) = f(\\bold{x} + (\\alpha t_1  + (1 - \\alpha)t_2)\\bold{v}) = f(\\alpha [\\bold{x} +  t_1 \\bold{v}] + (1-\\alpha)[ \\bold{x} + t_2 \\bold{v}]) \\leq \\alpha f(\\bold{x} +  t_1 \\bold{v}) + (1-\\alpha) f(\\bold{x} + t_2 \\bold{v})\\\\\n",
    "=\\alpha g(t_1) + (1 - \\alpha) g(t_2)$\n",
    "\n",
    "$g$ is convex $\\implies$ $g''(t) \\geq 0$\n",
    "\n",
    "As our choice of $\\bold{v}$ was arbitrary we have $\\forall \\bold{v} \\in \\mathbb{R^d}$, $0 \\leq g''(t) = \\bold{v} ^T \\, \\nabla ^2 f(x + tv) \\, \\bold{v}$\n",
    "\n",
    "So f is positive semi-definite"
   ]
  },
  {
   "cell_type": "markdown",
   "metadata": {},
   "source": [
    "***\n",
    "\n",
    "### Question 2.3: A quick recap of momentum [1 point]\n"
   ]
  },
  {
   "cell_type": "markdown",
   "metadata": {},
   "source": [
    "Our new basis vectors are:\n",
    "\n",
    "$\\forall i \\in \\{ 1, 2, 3,..,d\\}, \\, Q^T(e_i - x*), $"
   ]
  },
  {
   "cell_type": "markdown",
   "metadata": {},
   "source": []
  },
  {
   "cell_type": "markdown",
   "metadata": {},
   "source": []
  },
  {
   "cell_type": "markdown",
   "metadata": {},
   "source": [
    "$(\\beta + 1 - \\alpha \\lambda_i)^2 - 4 \\beta < 0 \\Longleftrightarrow $ R has complex eigenvalues "
   ]
  },
  {
   "cell_type": "markdown",
   "metadata": {},
   "source": [
    "***\n",
    "\n",
    "### Question 2.4: Convergence proof [3 points]"
   ]
  },
  {
   "cell_type": "markdown",
   "metadata": {},
   "source": [
    "Recursive step: $x_{k+1} = x_k  - (\\nabla ^2(f(x_k))^{-1} \\nabla f(x_k)$\n",
    "\n",
    "With $f(x) = \\frac{1}{2} x^t Q x + b^T x + c$\n",
    "\n",
    "$\\nabla f(x) = Qx + b$\\\n",
    "$\\nabla^2 f(x) = Q$\n",
    " \n",
    "so $x_{k+1} = X_k - Q^{-1} (Qx_k + b) = x_k - x_k + Q^{-1}b = - Q^{-1}b$\n",
    "\n",
    "$- Q^{-1}b = x$, satisfies $x = x - Q^{-1}(Qx + b)$"
   ]
  },
  {
   "cell_type": "markdown",
   "metadata": {},
   "source": [
    "e"
   ]
  },
  {
   "cell_type": "markdown",
   "metadata": {},
   "source": [
    "$\\| x_1 - x^* \\|$, subbing in the definition of $x_1$ \n",
    "\n",
    "$= \\| x_0 - (\\nabla ^2f(x_0))^{-1}(\\nabla f(x_0)) - x^* \\|$\n",
    "\n",
    "$ =\\| (\\nabla ^2f(x_0))^{-1} (\\nabla ^2f(x_0)) \\left[x_0 - (\\nabla ^2f(x_0))^{-1}(\\nabla f(x_0)) - x^* \\right]\\|$\n",
    "\n",
    "$ \\leq \\| (\\nabla ^2f(x_0))^{-1} \\| \\| (\\nabla ^2f(x_0)) (x_0 - x^*) - (\\nabla f(x_0)) \\|\\hspace{10pt}$ Using Lemma 0.1"
   ]
  },
  {
   "cell_type": "markdown",
   "metadata": {},
   "source": []
  },
  {
   "cell_type": "markdown",
   "metadata": {},
   "source": [
    "6\\)\n",
    "\n",
    "Given $x_0 \\in B(x^*, \\epsilon)\\,  : \\, \\|x_0 - x^*\\| \\leq \\frac{\\alpha}{c_1 c_2}$\n",
    "\n",
    "Show $x_1 \\in B(x^*, \\epsilon),$ and $, \\|x_1 - x^* \\| \\leq \\frac{\\alpha}{c_1 c_2}$\n",
    "\n",
    "\n",
    "\n",
    "From 5\\)\\\n",
    "$\\|x_1 - x^* \\| \\leq c_1 c_2 \\|x_0 - x^*\\|^2 \n",
    "\\leq c_1 c_2 \\left(\\frac{\\alpha}{c_1 c_2}\\right)\\|x_0 - x^*\\| = \\alpha \\|x_0 - x^*\\| \\leq \\|x_0 - x^*\\| \\hspace{5pt}(*)$\n",
    "\n",
    "$(*)\\implies \\|x_1 - x^* \\| \\leq \\frac{\\alpha}{c_1 c_2}$ \n",
    "\n",
    "$(*)\\implies \\|x_1 - x^* \\| \\leq \\epsilon$"
   ]
  },
  {
   "cell_type": "markdown",
   "metadata": {},
   "source": []
  },
  {
   "cell_type": "code",
   "execution_count": null,
   "metadata": {},
   "outputs": [],
   "source": []
  },
  {
   "cell_type": "code",
   "execution_count": null,
   "metadata": {},
   "outputs": [],
   "source": []
  },
  {
   "cell_type": "markdown",
   "metadata": {},
   "source": [
    "***\n",
    "***\n",
    "\n",
    "## Part 3: A deeper dive into neural network implementations [3 points]"
   ]
  },
  {
   "cell_type": "code",
   "execution_count": 2,
   "metadata": {},
   "outputs": [],
   "source": [
    "# Import libraries\n",
    "import numpy as np\n",
    "import torch\n",
    "import torch.nn as nn\n",
    "import torchvision\n",
    "\n",
    "import torchvision.transforms as transforms\n",
    "import matplotlib.pyplot as plt\n",
    "import torch.optim as optim\n"
   ]
  },
  {
   "cell_type": "code",
   "execution_count": 3,
   "metadata": {},
   "outputs": [
    {
     "name": "stdout",
     "output_type": "stream",
     "text": [
      "Downloading http://yann.lecun.com/exdb/mnist/train-images-idx3-ubyte.gz\n",
      "Downloading http://yann.lecun.com/exdb/mnist/train-images-idx3-ubyte.gz to ./MNIST\\raw\\train-images-idx3-ubyte.gz\n"
     ]
    },
    {
     "name": "stderr",
     "output_type": "stream",
     "text": [
      "100%|██████████| 9912422/9912422 [00:00<00:00, 12773864.90it/s]\n"
     ]
    },
    {
     "name": "stdout",
     "output_type": "stream",
     "text": [
      "Extracting ./MNIST\\raw\\train-images-idx3-ubyte.gz to ./MNIST\\raw\n",
      "\n",
      "Downloading http://yann.lecun.com/exdb/mnist/train-labels-idx1-ubyte.gz\n",
      "Downloading http://yann.lecun.com/exdb/mnist/train-labels-idx1-ubyte.gz to ./MNIST\\raw\\train-labels-idx1-ubyte.gz\n"
     ]
    },
    {
     "name": "stderr",
     "output_type": "stream",
     "text": [
      "100%|██████████| 28881/28881 [00:00<00:00, 33780171.17it/s]"
     ]
    },
    {
     "name": "stdout",
     "output_type": "stream",
     "text": [
      "Extracting ./MNIST\\raw\\train-labels-idx1-ubyte.gz to ./MNIST\\raw\n",
      "\n",
      "Downloading http://yann.lecun.com/exdb/mnist/t10k-images-idx3-ubyte.gz\n"
     ]
    },
    {
     "name": "stderr",
     "output_type": "stream",
     "text": [
      "\n"
     ]
    },
    {
     "name": "stdout",
     "output_type": "stream",
     "text": [
      "Downloading http://yann.lecun.com/exdb/mnist/t10k-images-idx3-ubyte.gz to ./MNIST\\raw\\t10k-images-idx3-ubyte.gz\n"
     ]
    },
    {
     "name": "stderr",
     "output_type": "stream",
     "text": [
      "100%|██████████| 1648877/1648877 [00:00<00:00, 5623178.82it/s]\n"
     ]
    },
    {
     "name": "stdout",
     "output_type": "stream",
     "text": [
      "Extracting ./MNIST\\raw\\t10k-images-idx3-ubyte.gz to ./MNIST\\raw\n",
      "\n",
      "Downloading http://yann.lecun.com/exdb/mnist/t10k-labels-idx1-ubyte.gz\n",
      "Downloading http://yann.lecun.com/exdb/mnist/t10k-labels-idx1-ubyte.gz to ./MNIST\\raw\\t10k-labels-idx1-ubyte.gz\n"
     ]
    },
    {
     "name": "stderr",
     "output_type": "stream",
     "text": [
      "100%|██████████| 4542/4542 [00:00<00:00, 8204362.09it/s]"
     ]
    },
    {
     "name": "stdout",
     "output_type": "stream",
     "text": [
      "Extracting ./MNIST\\raw\\t10k-labels-idx1-ubyte.gz to ./MNIST\\raw\n",
      "\n"
     ]
    },
    {
     "name": "stderr",
     "output_type": "stream",
     "text": [
      "\n"
     ]
    },
    {
     "name": "stdout",
     "output_type": "stream",
     "text": [
      "Downloading https://www.cs.toronto.edu/~kriz/cifar-10-python.tar.gz to ./cifar-10-python.tar.gz\n"
     ]
    },
    {
     "name": "stderr",
     "output_type": "stream",
     "text": [
      "100%|██████████| 170498071/170498071 [01:27<00:00, 1947121.66it/s]\n"
     ]
    },
    {
     "name": "stdout",
     "output_type": "stream",
     "text": [
      "Extracting ./cifar-10-python.tar.gz to ./\n",
      "Files already downloaded and verified\n"
     ]
    }
   ],
   "source": [
    "# Download datasets\n",
    "train_set_mnist = torchvision.datasets.MNIST(root=\"./\", download=True,\n",
    "                                         train=True, transform=transforms.Compose([transforms.ToTensor()]))\n",
    "\n",
    "test_set_mnist = torchvision.datasets.MNIST(root=\"./\",download=True,\n",
    "                                        train=False,transform=transforms.Compose([transforms.ToTensor()]),)\n",
    "\n",
    "train_set_cifar = torchvision.datasets.CIFAR10(root=\"./\", download=True,\n",
    "                                         train=True, transform=transforms.Compose([transforms.ToTensor()]))\n",
    "\n",
    "test_set_cifar = torchvision.datasets.CIFAR10(root=\"./\",download=True,\n",
    "                                        train=False,transform=transforms.Compose([transforms.ToTensor()]),)"
   ]
  },
  {
   "cell_type": "code",
   "execution_count": 7,
   "metadata": {},
   "outputs": [
    {
     "data": {
      "text/plain": [
       "<torch._C.Generator at 0x1679a2ea4d0>"
      ]
     },
     "execution_count": 7,
     "metadata": {},
     "output_type": "execute_result"
    }
   ],
   "source": [
    "# Set seed\n",
    "SEED = '01877978'\n",
    "np.random.seed(int(SEED))\n",
    "torch.manual_seed(SEED)"
   ]
  },
  {
   "cell_type": "markdown",
   "metadata": {},
   "source": [
    "***\n",
    "\n",
    "### Part 3.1: Implementations [1 point]"
   ]
  },
  {
   "cell_type": "markdown",
   "metadata": {},
   "source": []
  },
  {
   "cell_type": "code",
   "execution_count": null,
   "metadata": {},
   "outputs": [],
   "source": [
    "# You can of course add more cells of both code and markdown. Please remember to comment the code and explain your reasoning. Include docstrings. Tutorial provide a good example of how to style your code.\n",
    "# Although not compulsory you could challenge yourself by using object oriented programming to structure your code."
   ]
  },
  {
   "cell_type": "code",
   "execution_count": 9,
   "metadata": {},
   "outputs": [],
   "source": [
    "class Net(nn.Module):\n",
    "    def __init__(self, dim, nclass, width, depth):\n",
    "        super().__init__()\n",
    "        self.layers = nn.ModueleList()\n",
    "        self.layers.append(nn.Flatten())\n",
    "        for n in depth - 3:\n",
    "            self.layers.append(nn.Linear(width, ))\n",
    "        self.layers.append(nn.ReLU)\n",
    "        self.layers.append(nn.Linear(width,))\n",
    "\n",
    "    def forward(self, input):\n",
    "        \n",
    "\n",
    "\n",
    "    \n"
   ]
  },
  {
   "cell_type": "code",
   "execution_count": null,
   "metadata": {},
   "outputs": [],
   "source": []
  },
  {
   "cell_type": "code",
   "execution_count": null,
   "metadata": {},
   "outputs": [],
   "source": []
  },
  {
   "cell_type": "markdown",
   "metadata": {},
   "source": [
    "***\n",
    "\n",
    "### Part 3.2: Numerical exploration [2 points]"
   ]
  },
  {
   "cell_type": "markdown",
   "metadata": {},
   "source": []
  },
  {
   "cell_type": "code",
   "execution_count": null,
   "metadata": {},
   "outputs": [],
   "source": [
    "# You can of course add more cells of both code and markdown."
   ]
  },
  {
   "cell_type": "code",
   "execution_count": null,
   "metadata": {},
   "outputs": [],
   "source": []
  },
  {
   "cell_type": "code",
   "execution_count": null,
   "metadata": {},
   "outputs": [],
   "source": []
  },
  {
   "cell_type": "code",
   "execution_count": null,
   "metadata": {},
   "outputs": [],
   "source": []
  },
  {
   "cell_type": "markdown",
   "metadata": {},
   "source": [
    "***\n",
    "***\n",
    "\n",
    "## Part 4: The link between Neural Networks and Gaussian Processes [8 points]"
   ]
  },
  {
   "cell_type": "markdown",
   "metadata": {},
   "source": [
    "### Part 4.1: Proving the relationship between a Gaussian process and a neural network [4 points]"
   ]
  },
  {
   "cell_type": "markdown",
   "metadata": {},
   "source": [
    "### Task 1: Proper weight scaling"
   ]
  },
  {
   "cell_type": "markdown",
   "metadata": {},
   "source": []
  },
  {
   "cell_type": "markdown",
   "metadata": {},
   "source": [
    "### Task 2: Derive the GP relation for a single hidden layer"
   ]
  },
  {
   "cell_type": "markdown",
   "metadata": {},
   "source": []
  },
  {
   "cell_type": "markdown",
   "metadata": {},
   "source": [
    "### Task 3: Why in succession"
   ]
  },
  {
   "cell_type": "markdown",
   "metadata": {},
   "source": []
  },
  {
   "cell_type": "markdown",
   "metadata": {},
   "source": [
    "### Task 4: Derive the GP relation for multiple hidden layers"
   ]
  },
  {
   "cell_type": "markdown",
   "metadata": {},
   "source": []
  },
  {
   "cell_type": "markdown",
   "metadata": {},
   "source": [
    "***\n",
    "\n",
    "### Part 4.2: Analysing the performance of the Gaussian process and a neural network [4 points]"
   ]
  },
  {
   "cell_type": "markdown",
   "metadata": {},
   "source": []
  },
  {
   "cell_type": "code",
   "execution_count": null,
   "metadata": {},
   "outputs": [],
   "source": [
    "# Please use float64 as default dtype for this part of the assignment\n",
    "torch.set_default_dtype(torch.float64)\n",
    "\n",
    "# Another hint: when  computing [ K^L(X,X) + noise^2 Id ]^-1 y and  [ K^L(X,X) + noise^2 Id ]^-1 K^L(X,X*)\n",
    "# You can TRY cholesky solve as it should be p.d. (except case for numerical errors) - maybe you can use try:/except:\n",
    "# You can also try to enforce symmetry in posterior covariance by doing (K + K.t())/2"
   ]
  },
  {
   "cell_type": "code",
   "execution_count": null,
   "metadata": {},
   "outputs": [],
   "source": [
    "# You can of course add more cells of both code and markdown."
   ]
  },
  {
   "cell_type": "code",
   "execution_count": null,
   "metadata": {},
   "outputs": [],
   "source": []
  }
 ],
 "metadata": {
  "kernelspec": {
   "display_name": "Python 3",
   "language": "python",
   "name": "python3"
  },
  "language_info": {
   "codemirror_mode": {
    "name": "ipython",
    "version": 3
   },
   "file_extension": ".py",
   "mimetype": "text/x-python",
   "name": "python",
   "nbconvert_exporter": "python",
   "pygments_lexer": "ipython3",
   "version": "3.11.7"
  }
 },
 "nbformat": 4,
 "nbformat_minor": 2
}
